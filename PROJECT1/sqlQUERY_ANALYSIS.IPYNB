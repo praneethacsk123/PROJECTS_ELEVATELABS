{
 "cells": [
  {
   "cell_type": "code",
   "execution_count": 116,
   "id": "1300cd18",
   "metadata": {},
   "outputs": [],
   "source": [
    "import pandas as pd\n",
    "import pandasql as ps\n"
   ]
  },
  {
   "cell_type": "code",
   "execution_count": 117,
   "id": "24605bf0",
   "metadata": {},
   "outputs": [],
   "source": [
    "import sqlite3\n",
    "import pandas as pd\n",
    "import matplotlib.pyplot as plt\n",
    "import random\n",
    "#import the data set required\n"
   ]
  },
  {
   "cell_type": "code",
   "execution_count": 118,
   "id": "3e0a7526",
   "metadata": {},
   "outputs": [
    {
     "data": {
      "text/plain": [
       "2539"
      ]
     },
     "execution_count": 118,
     "metadata": {},
     "output_type": "execute_result"
    }
   ],
   "source": [
    "df = pd.read_csv('C:\\\\Users\\\\user\\\\Desktop\\\\MAIN\\\\ELEVATE LABS\\\\PROJECT 1\\\\E-COMMERCE RETURNS\\\\ecommerce_returns_synthetic_data.csv')  # Replace with the path to your CSV file\n",
    "\n",
    "# Step 2: Create an SQLite in-memory database connection\n",
    "conn = sqlite3.connect(':memory:')  # In-memory database\n",
    "\n",
    "# Step 3: Write the DataFrame to a new SQLite table\n",
    "df.to_sql('RETURNS_TABLE', conn, index=False)  # Replace if exists\n"
   ]
  },
  {
   "cell_type": "code",
   "execution_count": 119,
   "id": "c6d3f08e",
   "metadata": {},
   "outputs": [
    {
     "name": "stdout",
     "output_type": "stream",
     "text": [
      "     Product_ID       User_ID  Order_Date Return_Date Product_Category  \\\n",
      "0  PROD00000000  USER00000000  2023-08-05  2024-08-26         Clothing   \n",
      "1  PROD00000001  USER00000001  2023-10-09  2023-11-09            Books   \n",
      "2  PROD00000005  USER00000005  2024-02-14  2024-09-22      Electronics   \n",
      "3  PROD00000006  USER00000006  2023-05-29  2023-08-03         Clothing   \n",
      "4  PROD00000007  USER00000007  2023-02-09  2024-08-01      Electronics   \n",
      "5  PROD00000009  USER00000009  2023-03-10  2024-01-21         Clothing   \n",
      "6  PROD00000017  USER00000017  2023-02-03  2023-06-03      Electronics   \n",
      "7  PROD00000028  USER00000028  2024-05-15  2024-09-05             Toys   \n",
      "8  PROD00000037  USER00000037  2023-02-11  2024-05-10         Clothing   \n",
      "9  PROD00000043  USER00000043  2024-05-23  2024-06-05         Clothing   \n",
      "\n",
      "   Product_Price  Order_Quantity     Return_Reason  Days_to_Return  User_Age  \\\n",
      "0         411.59               3      Changed mind           387.0        58   \n",
      "1         288.88               3        Wrong item            31.0        68   \n",
      "2         252.12               1         Defective           221.0        46   \n",
      "3         382.89               2        Wrong item            66.0        25   \n",
      "4         306.39               3  Not as described           539.0        67   \n",
      "5         294.94               3  Not as described           317.0        44   \n",
      "6         400.12               1         Defective           120.0        33   \n",
      "7         106.60               5         Defective           113.0        53   \n",
      "8         246.15               1        Wrong item           454.0        31   \n",
      "9         105.70               3        Wrong item            13.0        44   \n",
      "\n",
      "  User_Gender User_Location Payment_Method  \n",
      "0        Male        City54     Debit Card  \n",
      "1      Female        City85    Credit Card  \n",
      "2      Female        City47     Debit Card  \n",
      "3        Male        City50    Credit Card  \n",
      "4      Female        City39    Credit Card  \n",
      "5        Male        City82    Credit Card  \n",
      "6        Male        City33         PayPal  \n",
      "7        Male        City69    Credit Card  \n",
      "8      Female        City62      Gift Card  \n",
      "9        Male        City41    Credit Card  \n"
     ]
    }
   ],
   "source": [
    "# View all data (limit 10 rows for readability)\n",
    "query = \"SELECT * FROM RETURNS_TABLE LIMIT 10;\"\n",
    "result = pd.read_sql(query, conn)\n",
    "print(result)"
   ]
  },
  {
   "cell_type": "code",
   "execution_count": 120,
   "id": "3324c371",
   "metadata": {},
   "outputs": [
    {
     "name": "stdout",
     "output_type": "stream",
     "text": [
      "   COUNT(*)\n",
      "0      2539\n"
     ]
    }
   ],
   "source": [
    "query = \"SELECT COUNT(*) FROM RETURNS_TABLE\"\n",
    "result = pd.read_sql(query, conn)\n",
    "print(result)\n"
   ]
  },
  {
   "cell_type": "code",
   "execution_count": 121,
   "id": "51769fb9",
   "metadata": {},
   "outputs": [
    {
     "name": "stdout",
     "output_type": "stream",
     "text": [
      "       Product_ID       User_ID  Order_Date Return_Date Product_Category  \\\n",
      "0    PROD00000000  USER00000000  2023-08-05  2024-08-26         Clothing   \n",
      "1    PROD00000046  USER00000046  2023-05-22  2024-03-09             Home   \n",
      "2    PROD00000082  USER00000082  2023-03-17  2023-08-31      Electronics   \n",
      "3    PROD00000092  USER00000092  2023-10-02  2024-02-27             Home   \n",
      "4    PROD00000117  USER00000117  2024-02-04  2024-09-17      Electronics   \n",
      "..            ...           ...         ...         ...              ...   \n",
      "607  PROD00009943  USER00009943  2023-10-13  2024-10-30         Clothing   \n",
      "608  PROD00009948  USER00009948  2023-01-28  2023-08-05         Clothing   \n",
      "609  PROD00009950  USER00009950  2023-07-29  2024-08-31         Clothing   \n",
      "610  PROD00009956  USER00009956  2024-06-09  2024-08-10            Books   \n",
      "611  PROD00009979  USER00009979  2023-03-11  2024-03-31             Home   \n",
      "\n",
      "     Product_Price  Order_Quantity Return_Reason  Days_to_Return  User_Age  \\\n",
      "0           411.59               3  Changed mind           387.0        58   \n",
      "1            97.31               2  Changed mind           292.0        53   \n",
      "2           496.22               5  Changed mind           167.0        67   \n",
      "3           394.71               4  Changed mind           148.0        66   \n",
      "4           265.23               4  Changed mind           226.0        57   \n",
      "..             ...             ...           ...             ...       ...   \n",
      "607         480.84               2  Changed mind           383.0        54   \n",
      "608         232.38               1  Changed mind           189.0        27   \n",
      "609          16.52               5  Changed mind           399.0        62   \n",
      "610         288.64               5  Changed mind            62.0        42   \n",
      "611         430.26               3  Changed mind           386.0        65   \n",
      "\n",
      "    User_Gender User_Location Payment_Method  \n",
      "0          Male        City54     Debit Card  \n",
      "1        Female        City49     Debit Card  \n",
      "2          Male        City36      Gift Card  \n",
      "3        Female        City25      Gift Card  \n",
      "4          Male        City89    Credit Card  \n",
      "..          ...           ...            ...  \n",
      "607      Female        City85    Credit Card  \n",
      "608      Female        City38      Gift Card  \n",
      "609      Female         City9     Debit Card  \n",
      "610        Male        City82      Gift Card  \n",
      "611      Female         City5     Debit Card  \n",
      "\n",
      "[612 rows x 13 columns]\n"
     ]
    }
   ],
   "source": [
    "query = \"\"\"\n",
    "SELECT *\n",
    "FROM RETURNS_TABLE\n",
    "WHERE Return_Reason = 'Changed mind'\n",
    "\"\"\"\n",
    "result = pd.read_sql(query, conn)\n",
    "print(result)\n"
   ]
  },
  {
   "cell_type": "code",
   "execution_count": 122,
   "id": "ea473070",
   "metadata": {},
   "outputs": [
    {
     "name": "stdout",
     "output_type": "stream",
     "text": [
      "   User_Location  Return_Count\n",
      "0         City62            36\n",
      "1         City36            35\n",
      "2         City78            34\n",
      "3          City7            34\n",
      "4         City42            34\n",
      "..           ...           ...\n",
      "95        City96            17\n",
      "96        City70            17\n",
      "97        City56            16\n",
      "98        City46            15\n",
      "99        City41            14\n",
      "\n",
      "[100 rows x 2 columns]\n"
     ]
    }
   ],
   "source": [
    "query = \"\"\"\n",
    "SELECT User_Location, COUNT(*) AS Return_Count\n",
    "FROM RETURNS_TABLE\n",
    "GROUP BY User_Location\n",
    "ORDER BY Return_Count DESC\n",
    "\"\"\"\n",
    "result = pd.read_sql(query, conn)\n",
    "print(result)\n"
   ]
  },
  {
   "cell_type": "code",
   "execution_count": 123,
   "id": "93e6e221",
   "metadata": {},
   "outputs": [
    {
     "name": "stdout",
     "output_type": "stream",
     "text": [
      "      Return_Reason  Return_Count\n",
      "0         Defective           681\n",
      "1        Wrong item           626\n",
      "2  Not as described           620\n",
      "3      Changed mind           612\n"
     ]
    }
   ],
   "source": [
    "query = \"\"\"\n",
    "SELECT Return_Reason, COUNT(*) AS Return_Count\n",
    "FROM RETURNS_TABLE\n",
    "GROUP BY Return_Reason\n",
    "ORDER BY Return_Count DESC\n",
    "\"\"\"\n",
    "result = pd.read_sql(query, conn)\n",
    "print(result)\n"
   ]
  },
  {
   "cell_type": "code",
   "execution_count": 124,
   "id": "f543967d",
   "metadata": {},
   "outputs": [
    {
     "name": "stdout",
     "output_type": "stream",
     "text": [
      "        User_ID  Return_Count\n",
      "0  USER00009994             1\n",
      "1  USER00009988             1\n",
      "2  USER00009985             1\n",
      "3  USER00009984             1\n",
      "4  USER00009980             1\n"
     ]
    }
   ],
   "source": [
    "query = \"\"\"\n",
    "SELECT User_ID, COUNT(*) AS Return_Count\n",
    "FROM RETURNS_TABLE\n",
    "GROUP BY User_ID\n",
    "ORDER BY Return_Count DESC\n",
    "LIMIT 5\n",
    "\"\"\"\n",
    "result = pd.read_sql(query, conn)\n",
    "print(result)\n",
    "#all are returning only 1 product\n"
   ]
  },
  {
   "cell_type": "code",
   "execution_count": 125,
   "id": "6d7c9fa6",
   "metadata": {},
   "outputs": [
    {
     "name": "stdout",
     "output_type": "stream",
     "text": [
      "  Payment_Method  Total_return_count\n",
      "0    Credit Card                 659\n",
      "1     Debit Card                 648\n",
      "2      Gift Card                 634\n",
      "3         PayPal                 598\n"
     ]
    }
   ],
   "source": [
    "query = \"\"\"\n",
    "SELECT Payment_Method, COUNT(Product_ID) AS Total_return_count\n",
    "FROM RETURNS_TABLE\n",
    "GROUP BY Payment_Method\n",
    "\"\"\"\n",
    "result = pd.read_sql(query, conn)\n",
    "print(result)\n"
   ]
  },
  {
   "cell_type": "code",
   "execution_count": 126,
   "id": "af6f3c36",
   "metadata": {},
   "outputs": [
    {
     "name": "stdout",
     "output_type": "stream",
     "text": [
      "   Total_Returned_Value\n",
      "0            1970060.26\n"
     ]
    }
   ],
   "source": [
    "query = \"\"\"\n",
    "SELECT SUM(Product_Price * Order_Quantity) AS Total_Returned_Value\n",
    "FROM RETURNS_TABLE\n",
    "\"\"\"\n",
    "result = pd.read_sql(query, conn)\n",
    "print(result)\n"
   ]
  },
  {
   "cell_type": "code",
   "execution_count": 127,
   "id": "b3300ed1",
   "metadata": {},
   "outputs": [
    {
     "name": "stdout",
     "output_type": "stream",
     "text": [
      "      Age_Group  Total_Returned_Value\n",
      "0         20-29             354665.15\n",
      "1         30-39             379404.05\n",
      "2         40-49             361756.58\n",
      "3         50-59             396797.13\n",
      "4  60 and above             417538.87\n",
      "5      Under 20              59898.48\n"
     ]
    }
   ],
   "source": [
    "query = \"\"\"\n",
    "SELECT \n",
    "    CASE \n",
    "        WHEN User_Age < 20 THEN 'Under 20'\n",
    "        WHEN User_Age BETWEEN 20 AND 29 THEN '20-29'\n",
    "        WHEN User_Age BETWEEN 30 AND 39 THEN '30-39'\n",
    "        WHEN User_Age BETWEEN 40 AND 49 THEN '40-49'\n",
    "        WHEN User_Age BETWEEN 50 AND 59 THEN '50-59'\n",
    "        ELSE '60 and above'\n",
    "    END AS Age_Group,\n",
    "    SUM(Product_Price * Order_Quantity) AS Total_Returned_Value\n",
    "FROM RETURNS_TABLE\n",
    "GROUP BY Age_Group\n",
    "ORDER BY Age_Group\n",
    "\"\"\"\n",
    "result = pd.read_sql(query, conn)\n",
    "print(result)\n"
   ]
  },
  {
   "cell_type": "code",
   "execution_count": 128,
   "id": "dc3440ec",
   "metadata": {},
   "outputs": [
    {
     "name": "stdout",
     "output_type": "stream",
     "text": [
      "  User_Gender  Total_Returned_Value\n",
      "0      Female             982229.64\n",
      "1        Male             987830.62\n"
     ]
    }
   ],
   "source": [
    "query = \"\"\"\n",
    "SELECT User_Gender, SUM(Product_Price * Order_Quantity) AS Total_Returned_Value\n",
    "FROM RETURNS_TABLE\n",
    "GROUP BY User_Gender\n",
    "\"\"\"\n",
    "result = pd.read_sql(query, conn)\n",
    "print(result)\n"
   ]
  },
  {
   "cell_type": "code",
   "execution_count": 129,
   "id": "bdefb8e3",
   "metadata": {},
   "outputs": [
    {
     "name": "stdout",
     "output_type": "stream",
     "text": [
      "  Product_Category  Product_Price  Order_Quantity  Total_Return_Value\n",
      "0      Electronics         499.66               5              2498.3\n"
     ]
    }
   ],
   "source": [
    "query = \"\"\"\n",
    "SELECT Product_Category, Product_Price, Order_Quantity, (Product_Price * Order_Quantity) AS Total_Return_Value\n",
    "FROM RETURNS_TABLE\n",
    "ORDER BY Total_Return_Value DESC\n",
    "LIMIT 1\n",
    "\"\"\"\n",
    "result = pd.read_sql(query, conn)\n",
    "print(result)\n"
   ]
  },
  {
   "cell_type": "code",
   "execution_count": 130,
   "id": "ad2400db",
   "metadata": {},
   "outputs": [
    {
     "name": "stdout",
     "output_type": "stream",
     "text": [
      "  Product_Category  Return_Count\n",
      "0            Books           551\n",
      "1         Clothing           521\n",
      "2      Electronics           480\n",
      "3             Home           501\n",
      "4             Toys           486\n"
     ]
    }
   ],
   "source": [
    "query = \"\"\"\n",
    "SELECT Product_Category, COUNT(*) AS Return_Count\n",
    "FROM RETURNS_TABLE\n",
    "GROUP BY Product_Category\n",
    "\"\"\"\n",
    "result = pd.read_sql(query, conn)\n",
    "print(result)\n"
   ]
  },
  {
   "cell_type": "code",
   "execution_count": 132,
   "id": "5325037b",
   "metadata": {},
   "outputs": [
    {
     "name": "stdout",
     "output_type": "stream",
     "text": [
      "   Year  Return_Count\n",
      "0  2023           645\n",
      "1  2024          1894\n"
     ]
    }
   ],
   "source": [
    "query = \"\"\"\n",
    "SELECT strftime('%Y', Return_Date) AS Year, \n",
    "       COUNT(*) AS Return_Count\n",
    "FROM RETURNS_TABLE\n",
    "GROUP BY Year\n",
    "ORDER BY Year\n",
    "\"\"\"\n",
    "result = pd.read_sql(query, conn)\n",
    "print(result)\n"
   ]
  },
  {
   "cell_type": "code",
   "execution_count": null,
   "id": "c0c2110c",
   "metadata": {},
   "outputs": [],
   "source": []
  }
 ],
 "metadata": {
  "kernelspec": {
   "display_name": "Python 3",
   "language": "python",
   "name": "python3"
  },
  "language_info": {
   "codemirror_mode": {
    "name": "ipython",
    "version": 3
   },
   "file_extension": ".py",
   "mimetype": "text/x-python",
   "name": "python",
   "nbconvert_exporter": "python",
   "pygments_lexer": "ipython3",
   "version": "3.13.2"
  }
 },
 "nbformat": 4,
 "nbformat_minor": 5
}
