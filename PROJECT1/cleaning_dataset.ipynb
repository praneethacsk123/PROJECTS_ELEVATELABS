{
 "cells": [
  {
   "cell_type": "code",
   "execution_count": 224,
   "id": "3bec5079",
   "metadata": {},
   "outputs": [],
   "source": [
    "import seaborn as sns\n",
    "import numpy as np"
   ]
  },
  {
   "cell_type": "code",
   "execution_count": 225,
   "id": "bb86d7c1",
   "metadata": {},
   "outputs": [],
   "source": [
    "#reading\n",
    "import pandas as pd\n",
    "df =pd.read_csv('C:\\\\Users\\\\user\\\\Desktop\\\\MAIN\\\\ELEVATE LABS\\\\PROJECT 1\\\\E-COMMERCE RETURNS\\\\ecommerce_returns_synthetic_data.csv')"
   ]
  },
  {
   "cell_type": "code",
   "execution_count": 226,
   "id": "4055db5f",
   "metadata": {},
   "outputs": [
    {
     "data": {
      "text/html": [
       "<div>\n",
       "<style scoped>\n",
       "    .dataframe tbody tr th:only-of-type {\n",
       "        vertical-align: middle;\n",
       "    }\n",
       "\n",
       "    .dataframe tbody tr th {\n",
       "        vertical-align: top;\n",
       "    }\n",
       "\n",
       "    .dataframe thead th {\n",
       "        text-align: right;\n",
       "    }\n",
       "</style>\n",
       "<table border=\"1\" class=\"dataframe\">\n",
       "  <thead>\n",
       "    <tr style=\"text-align: right;\">\n",
       "      <th></th>\n",
       "      <th>Product_ID</th>\n",
       "      <th>User_ID</th>\n",
       "      <th>Order_Date</th>\n",
       "      <th>Return_Date</th>\n",
       "      <th>Product_Category</th>\n",
       "      <th>Product_Price</th>\n",
       "      <th>Order_Quantity</th>\n",
       "      <th>Return_Reason</th>\n",
       "      <th>Days_to_Return</th>\n",
       "      <th>User_Age</th>\n",
       "      <th>User_Gender</th>\n",
       "      <th>User_Location</th>\n",
       "      <th>Payment_Method</th>\n",
       "    </tr>\n",
       "  </thead>\n",
       "  <tbody>\n",
       "    <tr>\n",
       "      <th>0</th>\n",
       "      <td>PROD00000000</td>\n",
       "      <td>USER00000000</td>\n",
       "      <td>2023-08-05</td>\n",
       "      <td>2024-08-26</td>\n",
       "      <td>Clothing</td>\n",
       "      <td>411.59</td>\n",
       "      <td>3</td>\n",
       "      <td>Changed mind</td>\n",
       "      <td>387.0</td>\n",
       "      <td>58</td>\n",
       "      <td>Male</td>\n",
       "      <td>City54</td>\n",
       "      <td>Debit Card</td>\n",
       "    </tr>\n",
       "    <tr>\n",
       "      <th>1</th>\n",
       "      <td>PROD00000001</td>\n",
       "      <td>USER00000001</td>\n",
       "      <td>2023-10-09</td>\n",
       "      <td>2023-11-09</td>\n",
       "      <td>Books</td>\n",
       "      <td>288.88</td>\n",
       "      <td>3</td>\n",
       "      <td>Wrong item</td>\n",
       "      <td>31.0</td>\n",
       "      <td>68</td>\n",
       "      <td>Female</td>\n",
       "      <td>City85</td>\n",
       "      <td>Credit Card</td>\n",
       "    </tr>\n",
       "    <tr>\n",
       "      <th>2</th>\n",
       "      <td>PROD00000005</td>\n",
       "      <td>USER00000005</td>\n",
       "      <td>2024-02-14</td>\n",
       "      <td>2024-09-22</td>\n",
       "      <td>Electronics</td>\n",
       "      <td>252.12</td>\n",
       "      <td>1</td>\n",
       "      <td>Defective</td>\n",
       "      <td>221.0</td>\n",
       "      <td>46</td>\n",
       "      <td>Female</td>\n",
       "      <td>City47</td>\n",
       "      <td>Debit Card</td>\n",
       "    </tr>\n",
       "    <tr>\n",
       "      <th>3</th>\n",
       "      <td>PROD00000006</td>\n",
       "      <td>USER00000006</td>\n",
       "      <td>2023-05-29</td>\n",
       "      <td>2023-08-03</td>\n",
       "      <td>Clothing</td>\n",
       "      <td>382.89</td>\n",
       "      <td>2</td>\n",
       "      <td>Wrong item</td>\n",
       "      <td>66.0</td>\n",
       "      <td>25</td>\n",
       "      <td>Male</td>\n",
       "      <td>City50</td>\n",
       "      <td>Credit Card</td>\n",
       "    </tr>\n",
       "    <tr>\n",
       "      <th>4</th>\n",
       "      <td>PROD00000007</td>\n",
       "      <td>USER00000007</td>\n",
       "      <td>2023-02-09</td>\n",
       "      <td>2024-08-01</td>\n",
       "      <td>Electronics</td>\n",
       "      <td>306.39</td>\n",
       "      <td>3</td>\n",
       "      <td>Not as described</td>\n",
       "      <td>539.0</td>\n",
       "      <td>67</td>\n",
       "      <td>Female</td>\n",
       "      <td>City39</td>\n",
       "      <td>Credit Card</td>\n",
       "    </tr>\n",
       "  </tbody>\n",
       "</table>\n",
       "</div>"
      ],
      "text/plain": [
       "     Product_ID       User_ID  Order_Date Return_Date Product_Category  \\\n",
       "0  PROD00000000  USER00000000  2023-08-05  2024-08-26         Clothing   \n",
       "1  PROD00000001  USER00000001  2023-10-09  2023-11-09            Books   \n",
       "2  PROD00000005  USER00000005  2024-02-14  2024-09-22      Electronics   \n",
       "3  PROD00000006  USER00000006  2023-05-29  2023-08-03         Clothing   \n",
       "4  PROD00000007  USER00000007  2023-02-09  2024-08-01      Electronics   \n",
       "\n",
       "   Product_Price  Order_Quantity     Return_Reason  Days_to_Return  User_Age  \\\n",
       "0         411.59               3      Changed mind           387.0        58   \n",
       "1         288.88               3        Wrong item            31.0        68   \n",
       "2         252.12               1         Defective           221.0        46   \n",
       "3         382.89               2        Wrong item            66.0        25   \n",
       "4         306.39               3  Not as described           539.0        67   \n",
       "\n",
       "  User_Gender User_Location Payment_Method  \n",
       "0        Male        City54     Debit Card  \n",
       "1      Female        City85    Credit Card  \n",
       "2      Female        City47     Debit Card  \n",
       "3        Male        City50    Credit Card  \n",
       "4      Female        City39    Credit Card  "
      ]
     },
     "execution_count": 226,
     "metadata": {},
     "output_type": "execute_result"
    }
   ],
   "source": [
    "#showing\n",
    "\n",
    "df.head(5)"
   ]
  },
  {
   "cell_type": "code",
   "execution_count": null,
   "id": "d9a08c87",
   "metadata": {},
   "outputs": [],
   "source": [
    "#items that are not returned  are removed because we are analysing only returned data\n",
    "#df = df[df['Return_Status'] == 'Returned']\n",
    "\n",
    "# Step 3: (Optional) Reset the index after filtering\n",
    "#df = df.reset_index(drop=True)\n",
    "\n",
    "#now we have all returned rows so we can drop that column\n",
    "#df.drop(['Return_Status'],axis=1,inplace=True)"
   ]
  },
  {
   "cell_type": "code",
   "execution_count": 228,
   "id": "470af0b5",
   "metadata": {},
   "outputs": [],
   "source": [
    "#num of days to return cannot be negitive so lets remove rows with negitive\n",
    "df = df.drop(df[df['Days_to_Return'] < 0].index)\n"
   ]
  },
  {
   "cell_type": "code",
   "execution_count": 229,
   "id": "288090e8",
   "metadata": {},
   "outputs": [
    {
     "data": {
      "text/plain": [
       "['Product_ID',\n",
       " 'User_ID',\n",
       " 'Order_Date',\n",
       " 'Return_Date',\n",
       " 'Product_Category',\n",
       " 'Product_Price',\n",
       " 'Order_Quantity',\n",
       " 'Return_Reason',\n",
       " 'Days_to_Return',\n",
       " 'User_Age',\n",
       " 'User_Gender',\n",
       " 'User_Location',\n",
       " 'Payment_Method']"
      ]
     },
     "execution_count": 229,
     "metadata": {},
     "output_type": "execute_result"
    }
   ],
   "source": [
    "df.columns.to_list()\n",
    "#showing columns"
   ]
  },
  {
   "cell_type": "code",
   "execution_count": 230,
   "id": "ec275d38",
   "metadata": {},
   "outputs": [
    {
     "data": {
      "text/plain": [
       "Product_ID          0\n",
       "User_ID             0\n",
       "Order_Date          0\n",
       "Return_Date         0\n",
       "Product_Category    0\n",
       "Product_Price       0\n",
       "Order_Quantity      0\n",
       "Return_Reason       0\n",
       "Days_to_Return      0\n",
       "User_Age            0\n",
       "User_Gender         0\n",
       "User_Location       0\n",
       "Payment_Method      0\n",
       "dtype: int64"
      ]
     },
     "execution_count": 230,
     "metadata": {},
     "output_type": "execute_result"
    }
   ],
   "source": [
    "#total null values\n",
    "df.isnull().sum()"
   ]
  },
  {
   "cell_type": "code",
   "execution_count": 231,
   "id": "d362ba93",
   "metadata": {},
   "outputs": [
    {
     "data": {
      "text/plain": [
       "(2539, 13)"
      ]
     },
     "execution_count": 231,
     "metadata": {},
     "output_type": "execute_result"
    }
   ],
   "source": [
    "df.shape"
   ]
  },
  {
   "cell_type": "code",
   "execution_count": 232,
   "id": "307a1119",
   "metadata": {},
   "outputs": [
    {
     "name": "stdout",
     "output_type": "stream",
     "text": [
      "<class 'pandas.core.frame.DataFrame'>\n",
      "Index: 2539 entries, 0 to 5050\n",
      "Data columns (total 13 columns):\n",
      " #   Column            Non-Null Count  Dtype  \n",
      "---  ------            --------------  -----  \n",
      " 0   Product_ID        2539 non-null   object \n",
      " 1   User_ID           2539 non-null   object \n",
      " 2   Order_Date        2539 non-null   object \n",
      " 3   Return_Date       2539 non-null   object \n",
      " 4   Product_Category  2539 non-null   object \n",
      " 5   Product_Price     2539 non-null   float64\n",
      " 6   Order_Quantity    2539 non-null   int64  \n",
      " 7   Return_Reason     2539 non-null   object \n",
      " 8   Days_to_Return    2539 non-null   float64\n",
      " 9   User_Age          2539 non-null   int64  \n",
      " 10  User_Gender       2539 non-null   object \n",
      " 11  User_Location     2539 non-null   object \n",
      " 12  Payment_Method    2539 non-null   object \n",
      "dtypes: float64(2), int64(2), object(9)\n",
      "memory usage: 277.7+ KB\n"
     ]
    }
   ],
   "source": [
    "df.info()"
   ]
  },
  {
   "cell_type": "code",
   "execution_count": 233,
   "id": "6bdad4fd",
   "metadata": {},
   "outputs": [
    {
     "data": {
      "text/html": [
       "<div>\n",
       "<style scoped>\n",
       "    .dataframe tbody tr th:only-of-type {\n",
       "        vertical-align: middle;\n",
       "    }\n",
       "\n",
       "    .dataframe tbody tr th {\n",
       "        vertical-align: top;\n",
       "    }\n",
       "\n",
       "    .dataframe thead th {\n",
       "        text-align: right;\n",
       "    }\n",
       "</style>\n",
       "<table border=\"1\" class=\"dataframe\">\n",
       "  <thead>\n",
       "    <tr style=\"text-align: right;\">\n",
       "      <th></th>\n",
       "      <th>Product_Price</th>\n",
       "      <th>Order_Quantity</th>\n",
       "      <th>Days_to_Return</th>\n",
       "      <th>User_Age</th>\n",
       "    </tr>\n",
       "  </thead>\n",
       "  <tbody>\n",
       "    <tr>\n",
       "      <th>count</th>\n",
       "      <td>2539.000000</td>\n",
       "      <td>2539.000000</td>\n",
       "      <td>2539.000000</td>\n",
       "      <td>2539.000000</td>\n",
       "    </tr>\n",
       "    <tr>\n",
       "      <th>mean</th>\n",
       "      <td>256.505920</td>\n",
       "      <td>3.020874</td>\n",
       "      <td>243.464750</td>\n",
       "      <td>44.125640</td>\n",
       "    </tr>\n",
       "    <tr>\n",
       "      <th>std</th>\n",
       "      <td>142.970513</td>\n",
       "      <td>1.421701</td>\n",
       "      <td>172.971464</td>\n",
       "      <td>15.220405</td>\n",
       "    </tr>\n",
       "    <tr>\n",
       "      <th>min</th>\n",
       "      <td>5.270000</td>\n",
       "      <td>1.000000</td>\n",
       "      <td>0.000000</td>\n",
       "      <td>18.000000</td>\n",
       "    </tr>\n",
       "    <tr>\n",
       "      <th>25%</th>\n",
       "      <td>134.135000</td>\n",
       "      <td>2.000000</td>\n",
       "      <td>96.000000</td>\n",
       "      <td>31.000000</td>\n",
       "    </tr>\n",
       "    <tr>\n",
       "      <th>50%</th>\n",
       "      <td>256.970000</td>\n",
       "      <td>3.000000</td>\n",
       "      <td>217.000000</td>\n",
       "      <td>44.000000</td>\n",
       "    </tr>\n",
       "    <tr>\n",
       "      <th>75%</th>\n",
       "      <td>383.535000</td>\n",
       "      <td>4.000000</td>\n",
       "      <td>363.000000</td>\n",
       "      <td>57.000000</td>\n",
       "    </tr>\n",
       "    <tr>\n",
       "      <th>max</th>\n",
       "      <td>499.710000</td>\n",
       "      <td>5.000000</td>\n",
       "      <td>726.000000</td>\n",
       "      <td>70.000000</td>\n",
       "    </tr>\n",
       "  </tbody>\n",
       "</table>\n",
       "</div>"
      ],
      "text/plain": [
       "       Product_Price  Order_Quantity  Days_to_Return     User_Age\n",
       "count    2539.000000     2539.000000     2539.000000  2539.000000\n",
       "mean      256.505920        3.020874      243.464750    44.125640\n",
       "std       142.970513        1.421701      172.971464    15.220405\n",
       "min         5.270000        1.000000        0.000000    18.000000\n",
       "25%       134.135000        2.000000       96.000000    31.000000\n",
       "50%       256.970000        3.000000      217.000000    44.000000\n",
       "75%       383.535000        4.000000      363.000000    57.000000\n",
       "max       499.710000        5.000000      726.000000    70.000000"
      ]
     },
     "execution_count": 233,
     "metadata": {},
     "output_type": "execute_result"
    }
   ],
   "source": [
    "df.describe()"
   ]
  },
  {
   "cell_type": "code",
   "execution_count": 234,
   "id": "c794c637",
   "metadata": {},
   "outputs": [],
   "source": [
    "# Convert 'Return_Date' to datetime (if it's not already)\n",
    "df['Return_Date'] = pd.to_datetime(df['Return_Date'], errors='coerce')\n",
    "\n",
    "# Replace NaN with the most frequent date in the column\n",
    "most_frequent_date = df['Return_Date'].mode()[0]\n",
    "df['Return_Date'] = df['Return_Date'].fillna(most_frequent_date)\n"
   ]
  },
  {
   "cell_type": "code",
   "execution_count": 235,
   "id": "9aa9cc66",
   "metadata": {},
   "outputs": [],
   "source": [
    "col=df['Return_Reason']\n",
    "col=col.fillna(col.mode()[0],inplace=True)"
   ]
  },
  {
   "cell_type": "code",
   "execution_count": 236,
   "id": "cf83cfbf",
   "metadata": {},
   "outputs": [],
   "source": [
    "col=df['Days_to_Return']\n",
    "col=col.fillna(col.mean(),inplace=True)"
   ]
  },
  {
   "cell_type": "code",
   "execution_count": 237,
   "id": "9fb4c95c",
   "metadata": {},
   "outputs": [
    {
     "data": {
      "text/plain": [
       "Product_ID          0\n",
       "User_ID             0\n",
       "Order_Date          0\n",
       "Return_Date         0\n",
       "Product_Category    0\n",
       "Product_Price       0\n",
       "Order_Quantity      0\n",
       "Return_Reason       0\n",
       "Days_to_Return      0\n",
       "User_Age            0\n",
       "User_Gender         0\n",
       "User_Location       0\n",
       "Payment_Method      0\n",
       "dtype: int64"
      ]
     },
     "execution_count": 237,
     "metadata": {},
     "output_type": "execute_result"
    }
   ],
   "source": [
    "df.isnull().sum()"
   ]
  },
  {
   "cell_type": "code",
   "execution_count": 238,
   "id": "9228d633",
   "metadata": {},
   "outputs": [],
   "source": [
    "# Save the cleaned DataFrame to a same file\n",
    "df.to_csv('C:\\\\Users\\\\user\\\\Desktop\\\\MAIN\\\\ELEVATE LABS\\\\PROJECT 1\\\\E-COMMERCE RETURNS\\\\ecommerce_returns_synthetic_data.csv', index=False)\n"
   ]
  }
 ],
 "metadata": {
  "kernelspec": {
   "display_name": "Python 3",
   "language": "python",
   "name": "python3"
  },
  "language_info": {
   "codemirror_mode": {
    "name": "ipython",
    "version": 3
   },
   "file_extension": ".py",
   "mimetype": "text/x-python",
   "name": "python",
   "nbconvert_exporter": "python",
   "pygments_lexer": "ipython3",
   "version": "3.13.2"
  }
 },
 "nbformat": 4,
 "nbformat_minor": 5
}
